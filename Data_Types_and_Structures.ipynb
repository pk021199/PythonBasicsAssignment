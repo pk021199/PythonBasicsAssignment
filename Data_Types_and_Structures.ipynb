{
  "nbformat": 4,
  "nbformat_minor": 0,
  "metadata": {
    "colab": {
      "provenance": []
    },
    "kernelspec": {
      "name": "python3",
      "display_name": "Python 3"
    },
    "language_info": {
      "name": "python"
    }
  },
  "cells": [
    {
      "cell_type": "markdown",
      "source": [
        "#Theory Questions."
      ],
      "metadata": {
        "id": "1z9LwDufVuSi"
      }
    },
    {
      "cell_type": "markdown",
      "source": [
        "1. What are data structures, and why are they important?\n",
        " - Data structures are specialized formats for organizing, storing, and accessing collections of data. They provide efficient ways to manage information based on its characteristics and intended use, think of them as containers that hold your data and determine how you can interact with it. Different containers are better suited for different types of items.\n",
        "\n",
        "   **And importance of data structures:**  \n",
        "   Choosing the right data structure significantly impacts the efficiency and performance of your program.\n",
        "  \n",
        "   Simplify data manipulation (adding, removing, modifying elements).\n",
        "  \n",
        "   Optimize searching and sorting operations.\n",
        "  \n",
        "   Conserve memory usage"
      ],
      "metadata": {
        "id": "zooSepUvWYHt"
      }
    },
    {
      "cell_type": "markdown",
      "source": [
        "2. Explain the difference between mutable and immutable data types with examples?\n",
        " - The difference between mutable and immutable data types lies in whether their contents (values) can be changed after the object is created.\n",
        "\n",
        "      **Mutable data types**\n",
        "\n",
        "      These can be changed after creation.\n",
        "\n",
        "      You can modify, add, or delete elements in the object without changing its identity (memory address).\n",
        "\n",
        "      **Immutable data types**\n",
        "\n",
        "      These cannot be changed after creation.\n",
        "\n",
        "      Any operation that seems to modify the object will actually create a new object.\n",
        "\n",
        "      Examples:"
      ],
      "metadata": {
        "id": "DV_S5yXQXe41"
      }
    },
    {
      "cell_type": "code",
      "source": [
        "#Examples of Mutable data\n",
        "list1 = [1, 2, 3]\n",
        "list1.append(4)\n",
        "print(list1)\n"
      ],
      "metadata": {
        "colab": {
          "base_uri": "https://localhost:8080/"
        },
        "id": "dXd_y1MpZcJm",
        "outputId": "aca79c13-5805-4cec-9473-4d1fd469dfba"
      },
      "execution_count": null,
      "outputs": [
        {
          "output_type": "stream",
          "name": "stdout",
          "text": [
            "[1, 2, 3, 4]\n"
          ]
        }
      ]
    },
    {
      "cell_type": "code",
      "source": [
        "#Example of Immutable data\n",
        "string1 = \"Hello\"\n",
        "string2 = string1 + \" World\"\n",
        "print(string1)\n",
        "print(string2)\n",
        "\n",
        "# Note: A new string object was created"
      ],
      "metadata": {
        "colab": {
          "base_uri": "https://localhost:8080/"
        },
        "id": "jUbX_m28aItG",
        "outputId": "e6dc114b-1993-4723-97cc-5648632e4af3"
      },
      "execution_count": null,
      "outputs": [
        {
          "output_type": "stream",
          "name": "stdout",
          "text": [
            "Hello\n",
            "Hello World\n"
          ]
        }
      ]
    },
    {
      "cell_type": "markdown",
      "source": [
        "3. What are the main differences between lists and tuples in Python?\n",
        " - The main differences between lists and tuples in Python can be summarized based on mutability, syntax, performance, and use cases:\n",
        "   \n",
        "   **List:**\n",
        "\n",
        "   Ordered, mutable collections of elements. Think of shopping lists or task lists. Lists can hold items of various data types (numbers, strings, even other lists!).\n",
        "\n",
        "   You can add, remove, or modify elements within a list using indexing and slicing. Lists are versatile for storing and managing collections that might change.\n",
        "   \n",
        "   **Tuples:**\n",
        "\n",
        "   Ordered, immutable collections of elements, similar to lists. However, once created, the items in a tuple cannot be changed. They provide a secure way to store data that shouldn't be modified.\n",
        "\n",
        "   You can access elements using indexing and slicing, but you cannot modify the content. Tuples are useful for representing fixed datasets or configurations.\n"
      ],
      "metadata": {
        "id": "T4JRSSpVaked"
      }
    },
    {
      "cell_type": "markdown",
      "source": [
        "4.  Describe how dictionaries store data?\n",
        " - Dictonary is a data structure that store data as key value pair, Keys are unique and immutable. Unique key-value pairs: Each key acts as a unique identifier for retrieving an associated value. Flexible data: Keys and values can be of various data types (strings, numbers, lists, and even other dictionaries).\n",
        "\n",
        "   Note: Dictonary are unordered. but from python 3.7 version, dictionaries retain the order of intertion, This means that if you iterate over a dictionary the items will be returned in the order they were added."
      ],
      "metadata": {
        "id": "bptmpdu1cwQH"
      }
    },
    {
      "cell_type": "markdown",
      "source": [
        "5.  Why might you use a set instead of a list in Python?\n",
        " -  **Uniqueness of Elements**\n",
        "\n",
        "     Sets automatically remove duplicates.\n",
        "\n",
        "     Lists allow duplicates, but sets do not.\n",
        "\n",
        "     **Faster Membership Testing**\n",
        "\n",
        "     Sets are optimized for fast lookups (O(1) average time).\n",
        "\n",
        "     Lists require a full scan (O(n) time).\n",
        "\n",
        "     **Set Operations**\n",
        "\n",
        "     Sets support mathematical set operations like:\n",
        "\n",
        "     union(), intersection(), difference(), and symmetric_difference()."
      ],
      "metadata": {
        "id": "4NQ6ueNGeVcc"
      }
    },
    {
      "cell_type": "markdown",
      "source": [
        "6. What is a string in Python, and how is it different from a list?\n",
        " - A string in Python is a sequence of characters used to represent text. It is one of Python’s built-in data types.\n",
        "\n",
        "   **What Is a String in Python?**\n",
        "\n",
        "   Defined using single, double, or triple quotes:\n",
        "\n",
        "   **Strings are:**\n",
        "\n",
        "  Immutable (cannot be changed after creation)\n",
        "\n",
        "  Indexed and iterable\n",
        "\n",
        "  Used for text processing, file I/O, data parsing, etc.\n",
        "\n",
        " **Summary**\n",
        "\n",
        "  Use a string for working with text.\n",
        "\n",
        "  Use a list when you need a flexible, mutable collection of any data type."
      ],
      "metadata": {
        "id": "FTvgHD9Kfyd3"
      }
    },
    {
      "cell_type": "markdown",
      "source": [
        "7. How do tuples ensure data integrity in Python?\n",
        " - Tuples ensure data integrity in Python primarily through their immutability—once a tuple is created, its contents cannot be changed. This behavior provides several guarantees and protections that help maintain consistent and reliable data.\n",
        "\n",
        "       **Ways Tuples Ensure Data Integrity**\n",
        "       1. Immutability Prevents Accidental Modification:\n",
        "\n",
        "       You cannot add, remove, or change elements in a tuple after it's created.\n",
        "\n",
        "       This protects data from unintended side effects.\n",
        "\n",
        "       2. Hashable and Usable as Dictionary Keys:\n",
        "\n",
        "          Tuples can be used as keys in dictionaries or elements in sets (if all elements are also hashable).\n",
        "\n",
        "          This allows you to safely represent fixed data combinations in places that require immutable keys.\n",
        "\n",
        "    3. Safe for Function Arguments and Return Values:\n",
        "\n",
        "      When you return or pass tuples, you ensure that the data won’t be modified unexpectedly.\n",
        "\n",
        "    4. Predictable and Consistent Behavior:\n",
        "\n",
        "      Tuples guarantee that their structure and values won’t change over time, which makes programs more robust and easier to reason about.\n",
        "\n",
        "      \n",
        "\n"
      ],
      "metadata": {
        "id": "JitZHUndhfU8"
      }
    },
    {
      "cell_type": "markdown",
      "source": [
        "8.  What is a hash table, and how does it relate to dictionaries in Python?\n",
        " - A hash table is a data structure that stores key-value pairs and allows for fast access, insertion, and deletion using a key.\n",
        "\n",
        "   It uses a hash function to convert a key into an index.\n",
        "\n",
        "   That index determines where the value is stored in an internal array.\n",
        "\n",
        "   When you look up a key, the same hash function quickly finds the corresponding value.\n",
        "\n",
        "      **Notes:**\n",
        "       Keys must be hashable: immutable types like strings, numbers, and tuples (with hashable elements) work.\n",
        "    \n",
        "  Hash collisions (two keys with the same hash) are handled internally using techniques like open addressing or chaining."
      ],
      "metadata": {
        "id": "s5F_Oa7ujYNK"
      }
    },
    {
      "cell_type": "markdown",
      "source": [
        "9.  Can lists contain different data types in Python?\n",
        " - Yes, lists can contain different data types in Python.\n",
        "\n",
        "     This is because Python lists are heterogeneous, meaning each element in a list can be of a different type—unlike in some programming languages that require lists (or arrays) to be of a single data type.\n",
        "\n",
        "     **Example: Mixed Data Types in a List:**\n",
        "\n",
        "     my_list = [42, \"hello\", 3.14, True, None, [1, 2], {\"a\": 1}]\n",
        "\n",
        "     **This list contains:**\n",
        "\n",
        "     An integer (42)\n",
        "\n",
        "     A string (\"hello\")\n",
        "\n",
        "     A float (3.14)\n",
        "\n",
        "     A boolean (True)\n",
        "\n",
        "     A NoneType value (None)\n",
        "\n",
        "     A nested list ([1, 2])\n",
        "\n",
        "     A dictionary ({\"a\": 1})\n",
        "     \n"
      ],
      "metadata": {
        "id": "atjdVe3UlEZe"
      }
    },
    {
      "cell_type": "markdown",
      "source": [
        "10. Explain why strings are immutable in Python?\n",
        " - In Python, strings are immutable, meaning once a string is created, it cannot be changed. Any operation that appears to modify a string actually creates a new string.\n",
        "\n",
        "     Immutability makes strings safe to share across parts of a program without risk of unexpected changes.\n",
        "\n",
        "     Immutable objects can be hashed, which allows them to be used as keys in dictionaries or elements in sets.\n",
        "\n",
        "     Python uses string interning (sharing of common immutable string objects) to save memory and speed up comparisons.\n",
        "\n",
        "     Immutability makes this possible and reliable.\n",
        "\n",
        "     Because strings can’t be changed, they’re naturally thread-safe—you don’t need to worry about two threads modifying the same string.\n",
        "\n",
        "     Strings are immutable in Python for performance, safety, hashability, and reliability.\n",
        "This design choice ensures that strings behave predictably and efficiently in many contexts.\n",
        "\n",
        "\n",
        "\n"
      ],
      "metadata": {
        "id": "qOheyTwemO8m"
      }
    },
    {
      "cell_type": "markdown",
      "source": [
        "11. What advantages do dictionaries offer over lists for certain tasks?\n",
        " - Dictionaries in Python offer several advantages over lists for certain types of tasks, especially when it comes to working with key-value pairs, fast lookups, and structured data.\n",
        "\n",
        "\n",
        "\n",
        "   *   Dictionaries use hash tables, allowing average-case constant time (O(1)) lookups.\n",
        "   *   Lists require linear time (O(n)) to search.\n",
        "   *   Dictionaries naturally express relationships between unique keys and their associated values.\n",
        "   *   Lists store values by position, which isn't as expressive for labeled data.\n",
        "   *   Code using dictionaries is often more self-explanatory:\n",
        "   *   With dictionaries, you access values using descriptive keys, not numeric indexes.\n",
        "   *   This reduces bugs and improves clarity.\n",
        "   *   Dictionary keys are unique, so they naturally prevent duplicate identifiers for data.\n",
        "   *   You can easily update or add values using keys, without worrying about order or index shifts.\n",
        "\n",
        "\n",
        "\n",
        "\n",
        "\n",
        "\n"
      ],
      "metadata": {
        "id": "236XWoOvoGsF"
      }
    },
    {
      "cell_type": "markdown",
      "source": [
        "12. Describe a scenario where using a tuple would be preferable over a list?\n",
        " - **Scenario Where a Tuple Is Preferable Over a List:**\n",
        "\n",
        "     A tuple is preferable over a list when you need to represent a fixed collection of related values that should not be modified.\n",
        "\n",
        "     **Example Scenario: Representing GPS Coordinates:**\n",
        "     \n",
        "     Imagine you're writing a program that works with geographic locations. Each location is defined by a latitude and longitude pair.\n",
        "\n",
        "     **Other Examples Where Tuples Are Preferred:**\n",
        "\n",
        "     Returning multiple values from a function:\n",
        "\n",
        "     Storing records that should remain constant\n",
        "     \n",
        "     Using structured, labeled data with namedtuple or dataclass when immutability is desired"
      ],
      "metadata": {
        "id": "sp-Gc1qhqHPE"
      }
    },
    {
      "cell_type": "markdown",
      "source": [
        "13. How do sets handle duplicate values in Python?\n",
        " - In theory, sets in Python eliminate duplicates by using a hash-based data structure. Here's how it works conceptually:\n",
        "\n",
        " **1. Sets Use Hash Tables Internally**\n",
        "\n",
        "     A set is implemented as a hash table, similar to how dictionaries work.\n",
        "\n",
        "     Each element added to the set is first passed through Python’s built-in hash() function to compute a hash value.\n",
        "\n",
        " **2. Hash Values Ensure Uniqueness**\n",
        "\n",
        "      The hash value determines the element's position in the internal hash table.\n",
        "\n",
        "     When a new element is added:\n",
        "\n",
        "     Python checks if the hash value already exists in the set.\n",
        "\n",
        "     If it does, Python assumes it's a duplicate and does not add it again.\n",
        "\n",
        "     If it doesn’t, Python stores the new element.\n",
        "\n",
        " **3. Equality Check (Hash + Eq)**\n",
        "\n",
        "   For a value to be considered a duplicate, two conditions must be met:\n",
        "\n",
        "   Same hash value\n",
        "\n",
        "   Evaluates as equal (==)\n",
        "\n",
        "   This means even if two objects have the same hash, Python still checks if they're equal using the __eq__() method.\n",
        "\n",
        " **4. Only Hashable Elements Allowed**\n",
        "\n",
        "   Because sets rely on hashes, only hashable (i.e. immutable) objects can be elements of a set.\n",
        "\n",
        "   Mutable types like lists or dictionaries cannot be added to a set.\n"
      ],
      "metadata": {
        "id": "-W7voms3rnQw"
      }
    },
    {
      "cell_type": "markdown",
      "source": [
        "14. How does the “in” keyword work differently for lists and dictionaries?\n",
        " - The in keyword in Python is used to check for membership — that is, whether a particular value exists within a collection like a list, dictionary, tuple, set, etc. However, its behavior differs depending on the type of collection."
      ],
      "metadata": {
        "id": "N1kNASKehdfX"
      }
    },
    {
      "cell_type": "markdown",
      "source": [
        "15. Can you modify the elements of a tuple? Explain why or why not?\n",
        " - No, you cannot modify the elements of a tuple in Python because tuples are immutable.\n",
        "\n",
        "     **Why Tuples Are Immutable:**\n",
        "\n",
        "     Immutability means that once a tuple is created, its elements cannot be changed, added, or removed.\n",
        "\n",
        "     Tuples are implemented in a way that ensures their structure stays constant throughout their lifetime.\n",
        "\n",
        "     **What Can Happen Inside a Tuple?**\n",
        "\n",
        "     Although you can't modify the tuple structure, you can mutate the elements inside a tuple if they are mutable themselves (e.g., a list inside a tuple)\n",
        "\n",
        "     **Why Use Immutable Tuples?**\n",
        "\n",
        "     Safety: Prevents accidental changes.\n",
        "\n",
        "     Hashability: Tuples (with only immutable elements) can be used as dictionary keys or set elements, unlike lists.\n",
        "\n",
        "     Performance: Slightly faster than lists for fixed-size data."
      ],
      "metadata": {
        "id": "EHIRPA2HlG_Y"
      }
    },
    {
      "cell_type": "markdown",
      "source": [
        "16. What is a nested dictionary, and give an example of its use case?\n",
        " - A nested dictionary is a dictionary within another dictionary. It allows you to store complex, hierarchical, or structured data using multiple levels of key-value pairs.\n",
        "\n",
        "     **Structure Example:**\n",
        "\n",
        "     student = {\n",
        "    \"name\": \"Alice\",\n",
        "    \"grades\": {\n",
        "        \"math\": 90,\n",
        "        \"science\": 85,\n",
        "        \"english\": 92 },\n",
        "    \"age\": 17}\n",
        "\n",
        "     Here:\n",
        "\n",
        "     student is the outer dictionary.\n",
        "\n",
        "     The value associated with the \"grades\" key is another dictionary — that's the nested part."
      ],
      "metadata": {
        "id": "rdYu9oK_l-G3"
      }
    },
    {
      "cell_type": "markdown",
      "source": [
        "17. Describe the time complexity of accessing elements in a dictionary?\n",
        " - In Python, dictionaries are implemented as hash tables, which give very fast access to elements by key.\n",
        "\n",
        "      **Average-Case Time Complexity:**\n",
        "\n",
        "      This means that accessing an element by key takes constant time, regardless of the size of the dictionary.\n",
        "\n",
        "     It works this way because Python computes a hash of the key and directly jumps to the corresponding memory slot.\n",
        "\n",
        "     **Worst-Case Time Complexity:**\n",
        "\n",
        "     In rare cases, hash collisions (multiple keys having the same hash) can occur.\n",
        "\n",
        "     If many keys collide, Python may need to scan a portion of the dictionary, making access time degrade to linear.\n",
        "\n",
        "     **Note:** Python’s hash table implementation is designed to minimize collisions and handles them efficiently using techniques like open addressing."
      ],
      "metadata": {
        "id": "ikThdaKvnzAL"
      }
    },
    {
      "cell_type": "markdown",
      "source": [
        "18. In what situations are lists preferred over dictionaries?\n",
        " - While both lists and dictionaries are used to store collections of data, lists are preferred when:\n",
        "\n",
        "    1. Order Matters:\n",
        "\n",
        "     Lists maintain the insertion order and allow indexed access.\n",
        "\n",
        "     Useful when the position of an item is meaningful.\n",
        "\n",
        "     **Data Is Sequential**\n",
        "\n",
        "     When dealing with sequences like time series, ordered items, or steps in a process.\n",
        "\n",
        "     You often iterate in order or access by position.\n",
        "\n",
        "    3. **No Need for Named Keys**\n",
        "\n",
        "      If your data doesn’t require labels or identifiers, a list is simpler and more readable.\n",
        "\n",
        "      Memory Efficiency\n",
        "     Lists are more memory-efficient than dictionaries for small, simple datasets.\n",
        "\n",
        "     Dictionaries store key-value pairs, which adds overhead.\n",
        "\n",
        "    4. **Simple Iteration**\n",
        "    \n",
        "     Iterating over a list is straightforward and often faster when no lookup by key is needed.\n",
        "\n",
        "     python\n",
        "     Copy\n",
        "     Edit\n",
        "\n",
        "     Lists can be sorted directly using .sort() or sorted(), making them ideal for ordered data tasks.\n",
        "\n",
        "     **When Not to Use Lists:**\n",
        "\n",
        "     If you need fast lookup by a unique identifier or label → use a dictionary.\n",
        "\n",
        "     If your data is structured like a table or needs to be grouped by named attributes → dictionary or class is better."
      ],
      "metadata": {
        "id": "84OEFJKgot9a"
      }
    },
    {
      "cell_type": "markdown",
      "source": [
        "19. Why are dictionaries considered unordered, and how does that affect data retrieval?\n",
        " - In older versions of Python (prior to 3.7), dictionaries were considered unordered collections. That means:\n",
        "\n",
        "     The order in which key-value pairs were inserted was not guaranteed to be preserved.\n",
        "\n",
        "     Internally, Python dictionaries used hash tables, which prioritized fast lookups over order.\n",
        "\n",
        "     When you iterated over a dictionary, the order could seem arbitrary or even change between runs.\n",
        "\n",
        "     So, dictionaries are considered \"unordered\" in the positional sense, even though they now preserve insertion order."
      ],
      "metadata": {
        "id": "yEdTlbH9qLO3"
      }
    },
    {
      "cell_type": "markdown",
      "source": [
        "20. Explain the difference between a list and a dictionary in terms of data retrieval?\n",
        "\n",
        "     Difference Between a List and a Dictionary in Terms of Data Retrieval\n",
        "     Both lists and dictionaries are used to store collections of data in Python, but they differ significantly in how you retrieve data from them.\n",
        "     1. **List: Index-Based Retrieval Access by position (index)**.\n",
        "\n",
        "     Elements are stored in a specific order.\n",
        "\n",
        "     You retrieve an item using an integer index, starting at 0.\n",
        "\n",
        "     2. **Dictionary: Key-Based Retrieval**\n",
        "\n",
        "     Access by key, not by position.\n",
        "\n",
        "     Keys can be strings, numbers, tuples (must be hashable).\n",
        "\n",
        "     You retrieve an item using its associated key, not an index.\n",
        "\n",
        "     Fast access by key: average O(1) time. Order is preserved (Python 3.7+), but not used for access."
      ],
      "metadata": {
        "id": "PVL-PUxvqvUx"
      }
    },
    {
      "cell_type": "markdown",
      "source": [
        "#Practical Questions:\n"
      ],
      "metadata": {
        "id": "LQrug_qoKFr1"
      }
    },
    {
      "cell_type": "markdown",
      "source": [
        "1. Write a code to create a string with your name and print it?"
      ],
      "metadata": {
        "id": "h_NemWcXKPrc"
      }
    },
    {
      "cell_type": "code",
      "source": [
        "# Create a string with your name\n",
        "name = \"Prashant Kumar\"\n",
        "\n",
        "# Print the string\n",
        "print(name)"
      ],
      "metadata": {
        "colab": {
          "base_uri": "https://localhost:8080/"
        },
        "id": "91CkTxFnKTp0",
        "outputId": "c8055e23-72fe-4ed8-eee5-159a103892a7"
      },
      "execution_count": null,
      "outputs": [
        {
          "output_type": "stream",
          "name": "stdout",
          "text": [
            "Prashant Kumar\n"
          ]
        }
      ]
    },
    {
      "cell_type": "markdown",
      "source": [
        "2. Write a code to find the length of the string \"Hello World\"?"
      ],
      "metadata": {
        "id": "ruPT2_WfK6Ha"
      }
    },
    {
      "cell_type": "code",
      "source": [
        "#Write a code to find the length of the string\n",
        "string = \"Hello World\"\n",
        "\n",
        "len(string)"
      ],
      "metadata": {
        "colab": {
          "base_uri": "https://localhost:8080/"
        },
        "id": "sggcAN22K_fo",
        "outputId": "eec3bafd-b627-46a6-b3e5-53be8c7f5eac"
      },
      "execution_count": null,
      "outputs": [
        {
          "output_type": "execute_result",
          "data": {
            "text/plain": [
              "11"
            ]
          },
          "metadata": {},
          "execution_count": 4
        }
      ]
    },
    {
      "cell_type": "markdown",
      "source": [
        "3. Write a code to slice the first 3 characters from the string \"Python Programming\"?"
      ],
      "metadata": {
        "id": "uwvPfpB7Lg_g"
      }
    },
    {
      "cell_type": "code",
      "source": [
        "#Write a code to slice the first 3 characters from the string\n",
        "string = \"Python Programming\"\n",
        "\n",
        "string[:3]"
      ],
      "metadata": {
        "colab": {
          "base_uri": "https://localhost:8080/",
          "height": 36
        },
        "id": "860wfIuQLowI",
        "outputId": "efd792b5-e889-46c2-8a52-6cd7c8cdcf3e"
      },
      "execution_count": null,
      "outputs": [
        {
          "output_type": "execute_result",
          "data": {
            "text/plain": [
              "'Pyt'"
            ],
            "application/vnd.google.colaboratory.intrinsic+json": {
              "type": "string"
            }
          },
          "metadata": {},
          "execution_count": 6
        }
      ]
    },
    {
      "cell_type": "markdown",
      "source": [
        "4. Write a code to convert the string \"hello\" to uppercase?"
      ],
      "metadata": {
        "id": "iNxEpxpUL1Kp"
      }
    },
    {
      "cell_type": "code",
      "source": [
        "#Write a code to convert the string to uppercase\n",
        "string = \"hello\"\n",
        "\n",
        "string.upper()"
      ],
      "metadata": {
        "colab": {
          "base_uri": "https://localhost:8080/",
          "height": 36
        },
        "id": "osp9E8K0L3fI",
        "outputId": "86a22229-a29a-4bed-aaea-38f20706fc3c"
      },
      "execution_count": null,
      "outputs": [
        {
          "output_type": "execute_result",
          "data": {
            "text/plain": [
              "'HELLO'"
            ],
            "application/vnd.google.colaboratory.intrinsic+json": {
              "type": "string"
            }
          },
          "metadata": {},
          "execution_count": 7
        }
      ]
    },
    {
      "cell_type": "markdown",
      "source": [
        "5. Write a code to replace the word \"apple\" with \"orange\" in the string \"I like apple\"?"
      ],
      "metadata": {
        "id": "frfI-hr0MHYV"
      }
    },
    {
      "cell_type": "code",
      "source": [
        "#Write a code to replace the word\n",
        "string = \"I like apple\"\n",
        "\n",
        "string.replace(\"apple\",\"orange\")"
      ],
      "metadata": {
        "colab": {
          "base_uri": "https://localhost:8080/",
          "height": 36
        },
        "id": "bRf1EjUgMI-5",
        "outputId": "28226fcf-04c0-4470-8c81-e0a1d4dcb9f8"
      },
      "execution_count": null,
      "outputs": [
        {
          "output_type": "execute_result",
          "data": {
            "text/plain": [
              "'I like orange'"
            ],
            "application/vnd.google.colaboratory.intrinsic+json": {
              "type": "string"
            }
          },
          "metadata": {},
          "execution_count": 8
        }
      ]
    },
    {
      "cell_type": "markdown",
      "source": [
        "6. Write a code to create a list with numbers 1 to 5 and print it?"
      ],
      "metadata": {
        "id": "j-a7wOcXMWKn"
      }
    },
    {
      "cell_type": "code",
      "source": [
        "#Write a code to create a list\n",
        "list = [1,2,3,4,5]\n",
        "\n",
        "print(list)\n",
        "\n"
      ],
      "metadata": {
        "colab": {
          "base_uri": "https://localhost:8080/"
        },
        "id": "hDgAMTXQMX1I",
        "outputId": "3fb4049a-6898-47a3-b37d-22caad495c65"
      },
      "execution_count": null,
      "outputs": [
        {
          "output_type": "stream",
          "name": "stdout",
          "text": [
            "[1, 2, 3, 4, 5]\n"
          ]
        }
      ]
    },
    {
      "cell_type": "markdown",
      "source": [
        "7. Write a code to append the number 10 to the list [1, 2, 3, 4]?"
      ],
      "metadata": {
        "id": "XnHyky9WMrGF"
      }
    },
    {
      "cell_type": "code",
      "source": [
        "list = [1,2,3,4]\n",
        "list.append(10)\n",
        "print(list)"
      ],
      "metadata": {
        "colab": {
          "base_uri": "https://localhost:8080/"
        },
        "id": "xA4n4aSDMsvZ",
        "outputId": "a09cb296-167c-4189-fa10-ff5f7e1161c5"
      },
      "execution_count": null,
      "outputs": [
        {
          "output_type": "stream",
          "name": "stdout",
          "text": [
            "[1, 2, 3, 4, 10]\n"
          ]
        }
      ]
    },
    {
      "cell_type": "markdown",
      "source": [
        "8. Write a code to remove the number 3 from the list [1, 2, 3, 4, 5]?"
      ],
      "metadata": {
        "id": "kF5cW-xGM_t7"
      }
    },
    {
      "cell_type": "code",
      "source": [
        "list = [1,2,3,4,5]\n",
        "list.remove(3)\n",
        "print(list)"
      ],
      "metadata": {
        "colab": {
          "base_uri": "https://localhost:8080/"
        },
        "id": "gd8U3ho-NBEv",
        "outputId": "8c97d94d-2962-491b-ea1e-21d9a4ef823c"
      },
      "execution_count": null,
      "outputs": [
        {
          "output_type": "stream",
          "name": "stdout",
          "text": [
            "[1, 2, 4, 5]\n"
          ]
        }
      ]
    },
    {
      "cell_type": "markdown",
      "source": [
        "9. Write a code to access the second element in the list ['a', 'b', 'c', 'd']?"
      ],
      "metadata": {
        "id": "N8rQCPZENQX6"
      }
    },
    {
      "cell_type": "code",
      "source": [
        "list = ['a', 'b', 'c', 'd']\n",
        "list[1]"
      ],
      "metadata": {
        "colab": {
          "base_uri": "https://localhost:8080/",
          "height": 36
        },
        "id": "oFc0SVHVNRne",
        "outputId": "bf5d3498-2bfd-4f36-fe2c-e66cbdaff379"
      },
      "execution_count": null,
      "outputs": [
        {
          "output_type": "execute_result",
          "data": {
            "text/plain": [
              "'b'"
            ],
            "application/vnd.google.colaboratory.intrinsic+json": {
              "type": "string"
            }
          },
          "metadata": {},
          "execution_count": 12
        }
      ]
    },
    {
      "cell_type": "markdown",
      "source": [
        "10. Write a code to reverse the list [10, 20, 30, 40, 50]?"
      ],
      "metadata": {
        "id": "K2nbpsTKNcQP"
      }
    },
    {
      "cell_type": "code",
      "source": [
        "list = [10, 20, 30, 40, 50]\n",
        "list.reverse()\n",
        "print(list)"
      ],
      "metadata": {
        "colab": {
          "base_uri": "https://localhost:8080/"
        },
        "id": "LVFR6lC-Nd3h",
        "outputId": "acd35c44-6e6b-4520-8f37-7d563ebc60c5"
      },
      "execution_count": null,
      "outputs": [
        {
          "output_type": "stream",
          "name": "stdout",
          "text": [
            "[50, 40, 30, 20, 10]\n"
          ]
        }
      ]
    },
    {
      "cell_type": "markdown",
      "source": [
        "11. Write a code to create a tuple with the elements 100, 200, 300 and print it?"
      ],
      "metadata": {
        "id": "Nv8eP-8sNnvu"
      }
    },
    {
      "cell_type": "code",
      "source": [
        "#Write a code to create a tuple with the elements\n",
        "tuple = (100,200,300)\n",
        "print(tuple)"
      ],
      "metadata": {
        "colab": {
          "base_uri": "https://localhost:8080/"
        },
        "id": "PbNOxtqpNo5j",
        "outputId": "1f19224c-8ce4-4894-8afa-2cbcd3b647dc"
      },
      "execution_count": null,
      "outputs": [
        {
          "output_type": "stream",
          "name": "stdout",
          "text": [
            "(100, 200, 300)\n"
          ]
        }
      ]
    },
    {
      "cell_type": "markdown",
      "source": [
        "12. Write a code to access the second-to-last element of the tuple ('red', 'green', 'blue', 'yellow')?"
      ],
      "metadata": {
        "id": "wVvwLT3nN8Sa"
      }
    },
    {
      "cell_type": "code",
      "source": [
        "tuple = ('red', 'green', 'blue', 'yellow')\n",
        "tuple[-2]"
      ],
      "metadata": {
        "colab": {
          "base_uri": "https://localhost:8080/",
          "height": 36
        },
        "id": "yZ-6icfSN9v-",
        "outputId": "d30021b2-7957-4412-def1-085a1e044555"
      },
      "execution_count": null,
      "outputs": [
        {
          "output_type": "execute_result",
          "data": {
            "text/plain": [
              "'blue'"
            ],
            "application/vnd.google.colaboratory.intrinsic+json": {
              "type": "string"
            }
          },
          "metadata": {},
          "execution_count": 15
        }
      ]
    },
    {
      "cell_type": "markdown",
      "source": [
        "13. Write a code to find the minimum number in the tuple (10, 20, 5, 15)?"
      ],
      "metadata": {
        "id": "KatogY26ORbU"
      }
    },
    {
      "cell_type": "code",
      "source": [
        "#Write a code to find the minimum number in the tuple\n",
        "tuple = (10, 20, 5, 15)\n",
        "min(tuple)"
      ],
      "metadata": {
        "colab": {
          "base_uri": "https://localhost:8080/"
        },
        "id": "ErPI9jIQOSkz",
        "outputId": "057e5cd1-1779-4050-d40b-84303714b1f5"
      },
      "execution_count": null,
      "outputs": [
        {
          "output_type": "execute_result",
          "data": {
            "text/plain": [
              "5"
            ]
          },
          "metadata": {},
          "execution_count": 16
        }
      ]
    },
    {
      "cell_type": "markdown",
      "source": [
        "14. Write a code to find the index of the element \"cat\" in the tuple ('dog', 'cat', 'rabbit')?"
      ],
      "metadata": {
        "id": "08Gfz3RMObOX"
      }
    },
    {
      "cell_type": "code",
      "source": [
        "tuple = ('dog', 'cat', 'rabbit')\n",
        "tuple.index('cat')"
      ],
      "metadata": {
        "colab": {
          "base_uri": "https://localhost:8080/"
        },
        "id": "bojkAlB5Ocm-",
        "outputId": "32ce42b0-2b2e-4e86-b9e7-273e0b70f86e"
      },
      "execution_count": null,
      "outputs": [
        {
          "output_type": "execute_result",
          "data": {
            "text/plain": [
              "1"
            ]
          },
          "metadata": {},
          "execution_count": 17
        }
      ]
    },
    {
      "cell_type": "markdown",
      "source": [
        "15.  Write a code to create a tuple containing three different fruits and check if \"kiwi\" is in it?"
      ],
      "metadata": {
        "id": "gIFI4MQwOmaA"
      }
    },
    {
      "cell_type": "code",
      "source": [
        "tuple = (\"apple\",\"banana\",\"kiwi\")\n",
        "\"kiwi\" in tuple"
      ],
      "metadata": {
        "colab": {
          "base_uri": "https://localhost:8080/"
        },
        "id": "fHWXc38VOn3V",
        "outputId": "aedf66a7-72ff-4f47-a361-377692f71b2f"
      },
      "execution_count": null,
      "outputs": [
        {
          "output_type": "execute_result",
          "data": {
            "text/plain": [
              "True"
            ]
          },
          "metadata": {},
          "execution_count": 18
        }
      ]
    },
    {
      "cell_type": "markdown",
      "source": [
        "16.  Write a code to create a set with the elements 'a', 'b', 'c' and print it?"
      ],
      "metadata": {
        "id": "Zs5IiH7pOy01"
      }
    },
    {
      "cell_type": "code",
      "source": [
        "my_set = {'a', 'b', 'c'}\n",
        "print(\"The set is:\", my_set)"
      ],
      "metadata": {
        "colab": {
          "base_uri": "https://localhost:8080/"
        },
        "id": "Bub0DxNEOz6K",
        "outputId": "370ae610-6151-4f9b-fa70-f24669e01d27"
      },
      "execution_count": null,
      "outputs": [
        {
          "output_type": "stream",
          "name": "stdout",
          "text": [
            "The set is: {'a', 'c', 'b'}\n"
          ]
        }
      ]
    },
    {
      "cell_type": "markdown",
      "source": [
        "17. Write a code to clear all elements from the set {1, 2, 3, 4, 5}?"
      ],
      "metadata": {
        "id": "X4-v8AGpPXBT"
      }
    },
    {
      "cell_type": "code",
      "source": [
        "my_set = {1, 2, 3, 4, 5}\n",
        "my_set.clear()\n",
        "print(my_set)"
      ],
      "metadata": {
        "colab": {
          "base_uri": "https://localhost:8080/"
        },
        "id": "ktCdnxeGPYVM",
        "outputId": "b42c7f5d-33ce-4491-b8b0-b16b76beee75"
      },
      "execution_count": null,
      "outputs": [
        {
          "output_type": "stream",
          "name": "stdout",
          "text": [
            "set()\n"
          ]
        }
      ]
    },
    {
      "cell_type": "markdown",
      "source": [
        "18. Write a code to remove the element 4 from the set {1, 2, 3, 4}?"
      ],
      "metadata": {
        "id": "NzibcRpxPpNI"
      }
    },
    {
      "cell_type": "code",
      "source": [
        "my_set = {1, 2, 3, 4}\n",
        "my_set.remove(4)\n",
        "print(my_set)"
      ],
      "metadata": {
        "colab": {
          "base_uri": "https://localhost:8080/"
        },
        "id": "VhQlyZcUPqbj",
        "outputId": "61cde1cb-7458-4f89-cab9-7caf0a24819d"
      },
      "execution_count": null,
      "outputs": [
        {
          "output_type": "stream",
          "name": "stdout",
          "text": [
            "{1, 2, 3}\n"
          ]
        }
      ]
    },
    {
      "cell_type": "markdown",
      "source": [
        "19. Write a code to find the union of two sets {1, 2, 3} and {3, 4, 5}?"
      ],
      "metadata": {
        "id": "GY1IgrsdPxwZ"
      }
    },
    {
      "cell_type": "code",
      "source": [
        "#Write a code to find the union of two sets\n",
        "set1 = {1, 2, 3}\n",
        "set2 = {3, 4, 5}\n",
        "union_set = set1.union(set2)\n",
        "print(union_set)\n",
        "\n"
      ],
      "metadata": {
        "colab": {
          "base_uri": "https://localhost:8080/"
        },
        "id": "lCs_APvXPzJH",
        "outputId": "a0c9ca0b-1b87-47fd-8f44-80917ba2072d"
      },
      "execution_count": null,
      "outputs": [
        {
          "output_type": "stream",
          "name": "stdout",
          "text": [
            "{1, 2, 3, 4, 5}\n"
          ]
        }
      ]
    },
    {
      "cell_type": "markdown",
      "source": [
        "20. Write a code to find the intersection of two sets {1, 2, 3} and {2, 3, 4}?"
      ],
      "metadata": {
        "id": "fnSIxBIcQBpU"
      }
    },
    {
      "cell_type": "code",
      "source": [
        "set1 = {1, 2, 3}\n",
        "set2 = {2, 3, 4}\n",
        "intersection_set = set1.intersection(set2)\n",
        "print(intersection_set)"
      ],
      "metadata": {
        "colab": {
          "base_uri": "https://localhost:8080/"
        },
        "id": "d-iFJQBHQDnp",
        "outputId": "d5d2f9fc-21fd-4719-c37f-da8ba77019b2"
      },
      "execution_count": null,
      "outputs": [
        {
          "output_type": "stream",
          "name": "stdout",
          "text": [
            "{2, 3}\n"
          ]
        }
      ]
    },
    {
      "cell_type": "markdown",
      "source": [
        "21. Write a code to create a dictionary with the keys \"name\", \"age\", and \"city\", and print it?"
      ],
      "metadata": {
        "id": "aUE6m_cSQPbC"
      }
    },
    {
      "cell_type": "code",
      "source": [
        "#Write a code to create a dictionary with the keys\n",
        "my_dict = {\"name\": \"Prashant\", \"age\": 25, \"city\": \" New Delhi\"}\n",
        "print(my_dict)"
      ],
      "metadata": {
        "colab": {
          "base_uri": "https://localhost:8080/"
        },
        "id": "gQaG6RQWQRGI",
        "outputId": "5a0b08ae-e8b8-4399-9e40-346a84f35e99"
      },
      "execution_count": null,
      "outputs": [
        {
          "output_type": "stream",
          "name": "stdout",
          "text": [
            "{'name': 'Prashant', 'age': 25, 'city': ' New Delhi'}\n"
          ]
        }
      ]
    },
    {
      "cell_type": "markdown",
      "source": [
        "22.  Write a code to add a new key-value pair \"country\": \"USA\" to the dictionary {'name': 'John', 'age': 25}?"
      ],
      "metadata": {
        "id": "RunzA00WQ6yH"
      }
    },
    {
      "cell_type": "code",
      "source": [
        "my_dict = {'name': 'John', 'age': 25}\n",
        "my_dict[\"country\"] = \"USA\"\n",
        "print(my_dict)"
      ],
      "metadata": {
        "colab": {
          "base_uri": "https://localhost:8080/"
        },
        "id": "Cve-1tK6Q-sW",
        "outputId": "a9d69c1c-0f44-4d45-97d6-b5f0d0a36104"
      },
      "execution_count": null,
      "outputs": [
        {
          "output_type": "stream",
          "name": "stdout",
          "text": [
            "{'name': 'John', 'age': 25, 'country': 'USA'}\n"
          ]
        }
      ]
    },
    {
      "cell_type": "markdown",
      "source": [
        "23.  Write a code to access the value associated with the key \"name\" in the dictionary {'name': 'Alice', 'age': 30}?"
      ],
      "metadata": {
        "id": "su5XNq3FRNGV"
      }
    },
    {
      "cell_type": "code",
      "source": [
        "my_dict = {'name': 'Alice', 'age': 30}\n",
        "my_dict[\"name\"]"
      ],
      "metadata": {
        "colab": {
          "base_uri": "https://localhost:8080/",
          "height": 36
        },
        "id": "_l3a515IROx_",
        "outputId": "4bc8abb3-aceb-4fc6-9d2a-907bf27ac130"
      },
      "execution_count": null,
      "outputs": [
        {
          "output_type": "execute_result",
          "data": {
            "text/plain": [
              "'Alice'"
            ],
            "application/vnd.google.colaboratory.intrinsic+json": {
              "type": "string"
            }
          },
          "metadata": {},
          "execution_count": 29
        }
      ]
    },
    {
      "cell_type": "markdown",
      "source": [
        "24.  Write a code to remove the key \"age\" from the dictionary {'name': 'Bob', 'age': 22, 'city': 'New York'}?"
      ],
      "metadata": {
        "id": "aS2hDkzFRYjH"
      }
    },
    {
      "cell_type": "code",
      "source": [
        "my_dict = {'name': 'Bob', 'age': 22, 'city': 'New York'}\n",
        "del my_dict[\"age\"]\n",
        "print(my_dict)"
      ],
      "metadata": {
        "colab": {
          "base_uri": "https://localhost:8080/"
        },
        "id": "MoLNhis4RaPt",
        "outputId": "cc1ce5b1-c299-4905-d164-3e4bf1d17372"
      },
      "execution_count": null,
      "outputs": [
        {
          "output_type": "stream",
          "name": "stdout",
          "text": [
            "{'name': 'Bob', 'city': 'New York'}\n"
          ]
        }
      ]
    },
    {
      "cell_type": "markdown",
      "source": [
        "25. Write a code to check if the key \"city\" exists in the dictionary {'name': 'Alice', 'city': 'Paris'}?"
      ],
      "metadata": {
        "id": "eaEgiuhGRjYC"
      }
    },
    {
      "cell_type": "code",
      "source": [
        "my_dict = {'name': 'Alice', 'city': 'Paris'}\n",
        "\"city\" in my_dict"
      ],
      "metadata": {
        "colab": {
          "base_uri": "https://localhost:8080/"
        },
        "id": "t_-uOqpuRleM",
        "outputId": "520bafea-823e-4aab-ef0e-693fa26570cf"
      },
      "execution_count": null,
      "outputs": [
        {
          "output_type": "execute_result",
          "data": {
            "text/plain": [
              "True"
            ]
          },
          "metadata": {},
          "execution_count": 31
        }
      ]
    },
    {
      "cell_type": "markdown",
      "source": [
        "26. Write a code to create a list, a tuple, and a dictionary, and print them all?"
      ],
      "metadata": {
        "id": "XZF8aiOQRtQp"
      }
    },
    {
      "cell_type": "code",
      "source": [
        "my_list = [1, 2, 3, 4, 5]\n",
        "my_tuple = (10, 20, 30, 40, 50)\n",
        "my_dict = {'name': 'John', 'age': 25}\n",
        "\n",
        "print(\"List:\", my_list)\n",
        "print(\"Tuple:\", my_tuple)\n",
        "print(\"Dictionary:\", my_dict)"
      ],
      "metadata": {
        "colab": {
          "base_uri": "https://localhost:8080/"
        },
        "id": "0OQxLyhuRu6A",
        "outputId": "bad833f9-a94a-421f-95cc-3987339b7beb"
      },
      "execution_count": null,
      "outputs": [
        {
          "output_type": "stream",
          "name": "stdout",
          "text": [
            "List: [1, 2, 3, 4, 5]\n",
            "Tuple: (10, 20, 30, 40, 50)\n",
            "Dictionary: {'name': 'John', 'age': 25}\n"
          ]
        }
      ]
    },
    {
      "cell_type": "markdown",
      "source": [
        "27.  Write a code to create a list of 5 random numbers between 1 and 100, sort it in ascending order, and print the\n",
        "result.(replaced)?"
      ],
      "metadata": {
        "id": "CWYgv02vS3dM"
      }
    },
    {
      "cell_type": "code",
      "source": [
        "my_list = [5, 25, 15, 45, 35]\n",
        "my_list.sort()\n",
        "print(my_list)"
      ],
      "metadata": {
        "colab": {
          "base_uri": "https://localhost:8080/"
        },
        "id": "nWY4IezVS5Aq",
        "outputId": "1e0f1c03-c018-4568-aade-cc435a36bcb2"
      },
      "execution_count": null,
      "outputs": [
        {
          "output_type": "stream",
          "name": "stdout",
          "text": [
            "[5, 15, 25, 35, 45]\n"
          ]
        }
      ]
    },
    {
      "cell_type": "markdown",
      "source": [
        "28. Write a code to create a list with strings and print the element at the third index?"
      ],
      "metadata": {
        "id": "-WXW9WVuTPsp"
      }
    },
    {
      "cell_type": "code",
      "source": [
        "my_list = [\"apple\", \"banana\", \"cherry\", \"date\", \"elderberry\"]\n",
        "print(my_list[3])"
      ],
      "metadata": {
        "colab": {
          "base_uri": "https://localhost:8080/"
        },
        "id": "wCKzQUYJTVC-",
        "outputId": "b025d80b-8b9a-42ba-eb8f-3fb9e9dc8b19"
      },
      "execution_count": null,
      "outputs": [
        {
          "output_type": "stream",
          "name": "stdout",
          "text": [
            "date\n"
          ]
        }
      ]
    },
    {
      "cell_type": "markdown",
      "source": [
        "29. Write a code to combine two dictionaries into one and print the result?"
      ],
      "metadata": {
        "id": "bYXxwQhSTv56"
      }
    },
    {
      "cell_type": "code",
      "source": [
        "d1 = {'a': 1, 'b': 2}\n",
        "d2 = {'c': 3, 'd': 4}\n",
        "combined_dict = {**d1, **d2}\n",
        "print(combined_dict)"
      ],
      "metadata": {
        "colab": {
          "base_uri": "https://localhost:8080/"
        },
        "id": "YYJQsh72TxNE",
        "outputId": "db0be4ce-f3a9-47f1-d509-a7b2b46ac301"
      },
      "execution_count": null,
      "outputs": [
        {
          "output_type": "stream",
          "name": "stdout",
          "text": [
            "{'a': 1, 'b': 2, 'c': 3, 'd': 4}\n"
          ]
        }
      ]
    },
    {
      "cell_type": "markdown",
      "source": [
        "30. Write a code to convert a list of strings into a set?"
      ],
      "metadata": {
        "id": "ajvNr2JlUhVe"
      }
    },
    {
      "cell_type": "code",
      "source": [
        "my_list = [\"Umesh\", \"Suresh\", \"Kumar\", \"Kailash\", \"Kapil\"]\n",
        "my_set = set(my_list)\n",
        "print(my_set)"
      ],
      "metadata": {
        "id": "g7RC_oNmXb25",
        "colab": {
          "base_uri": "https://localhost:8080/"
        },
        "outputId": "3a3195df-6c79-4cd9-900c-209dc7d81563"
      },
      "execution_count": 1,
      "outputs": [
        {
          "output_type": "stream",
          "name": "stdout",
          "text": [
            "{'Kapil', 'Suresh', 'Kumar', 'Umesh', 'Kailash'}\n"
          ]
        }
      ]
    },
    {
      "cell_type": "code",
      "source": [],
      "metadata": {
        "id": "98v1KJ70AlcE"
      },
      "execution_count": null,
      "outputs": []
    },
    {
      "cell_type": "code",
      "source": [],
      "metadata": {
        "id": "bTSz3q4mcIGP"
      },
      "execution_count": null,
      "outputs": []
    },
    {
      "cell_type": "code",
      "source": [],
      "metadata": {
        "id": "1ffvwVo7cDia"
      },
      "execution_count": null,
      "outputs": []
    },
    {
      "cell_type": "code",
      "source": [],
      "metadata": {
        "id": "YHy_5M-Kb6HR"
      },
      "execution_count": null,
      "outputs": []
    },
    {
      "cell_type": "code",
      "source": [],
      "metadata": {
        "id": "PQaKN8onbyBM"
      },
      "execution_count": null,
      "outputs": []
    },
    {
      "cell_type": "code",
      "source": [],
      "metadata": {
        "id": "8u7iqd7Rbooa"
      },
      "execution_count": null,
      "outputs": []
    },
    {
      "cell_type": "code",
      "source": [],
      "metadata": {
        "id": "08Enf0aeXTjn"
      },
      "execution_count": null,
      "outputs": []
    },
    {
      "cell_type": "code",
      "source": [],
      "metadata": {
        "id": "U4ZD7wcrXLRy"
      },
      "execution_count": null,
      "outputs": []
    },
    {
      "cell_type": "code",
      "source": [],
      "metadata": {
        "id": "5tRdXZ28XGjW"
      },
      "execution_count": null,
      "outputs": []
    },
    {
      "cell_type": "code",
      "source": [],
      "metadata": {
        "id": "i8KNbvwRWmZS"
      },
      "execution_count": null,
      "outputs": []
    },
    {
      "cell_type": "code",
      "source": [],
      "metadata": {
        "id": "EZUGUZQQWc9v"
      },
      "execution_count": null,
      "outputs": []
    },
    {
      "cell_type": "code",
      "source": [],
      "metadata": {
        "id": "i_fwjtiTWWOJ"
      },
      "execution_count": null,
      "outputs": []
    },
    {
      "cell_type": "code",
      "source": [],
      "metadata": {
        "id": "1T_b3K--WEgV"
      },
      "execution_count": null,
      "outputs": []
    },
    {
      "cell_type": "code",
      "source": [],
      "metadata": {
        "id": "vMedkolNWChH"
      },
      "execution_count": null,
      "outputs": []
    },
    {
      "cell_type": "code",
      "source": [],
      "metadata": {
        "id": "2mfv_GKRVp33"
      },
      "execution_count": null,
      "outputs": []
    },
    {
      "cell_type": "code",
      "source": [],
      "metadata": {
        "id": "dEZuWMWnVWCy"
      },
      "execution_count": null,
      "outputs": []
    },
    {
      "cell_type": "code",
      "source": [],
      "metadata": {
        "id": "n-CiTotQVLKY"
      },
      "execution_count": null,
      "outputs": []
    },
    {
      "cell_type": "code",
      "source": [],
      "metadata": {
        "id": "T3t2SL5lVGrP"
      },
      "execution_count": null,
      "outputs": []
    },
    {
      "cell_type": "code",
      "source": [],
      "metadata": {
        "id": "Y827Hn9-UzIO"
      },
      "execution_count": null,
      "outputs": []
    },
    {
      "cell_type": "code",
      "source": [],
      "metadata": {
        "id": "3-5kKPUrUolT"
      },
      "execution_count": null,
      "outputs": []
    },
    {
      "cell_type": "code",
      "source": [],
      "metadata": {
        "id": "ymRp2eBEUbO2"
      },
      "execution_count": null,
      "outputs": []
    },
    {
      "cell_type": "code",
      "source": [],
      "metadata": {
        "id": "uwRPfHUmTn8t"
      },
      "execution_count": null,
      "outputs": []
    },
    {
      "cell_type": "code",
      "source": [],
      "metadata": {
        "id": "-C-lHvAjTc2W"
      },
      "execution_count": null,
      "outputs": []
    },
    {
      "cell_type": "code",
      "source": [],
      "metadata": {
        "id": "Px-sgal_TAgL"
      },
      "execution_count": null,
      "outputs": []
    },
    {
      "cell_type": "code",
      "source": [],
      "metadata": {
        "id": "I67RQvWXSwlB"
      },
      "execution_count": null,
      "outputs": []
    },
    {
      "cell_type": "code",
      "source": [],
      "metadata": {
        "id": "IJPO6i6DSqkD"
      },
      "execution_count": null,
      "outputs": []
    },
    {
      "cell_type": "code",
      "source": [],
      "metadata": {
        "id": "47h6HPavRoOa"
      },
      "execution_count": null,
      "outputs": []
    },
    {
      "cell_type": "code",
      "source": [],
      "metadata": {
        "id": "Lv7jW7h1ReJO"
      },
      "execution_count": null,
      "outputs": []
    },
    {
      "cell_type": "code",
      "source": [],
      "metadata": {
        "id": "KTowE7n1RTY2"
      },
      "execution_count": null,
      "outputs": []
    },
    {
      "cell_type": "code",
      "source": [],
      "metadata": {
        "id": "uAKAd8UmREri"
      },
      "execution_count": null,
      "outputs": []
    },
    {
      "cell_type": "code",
      "source": [],
      "metadata": {
        "id": "eMedLjPqQxxd"
      },
      "execution_count": null,
      "outputs": []
    },
    {
      "cell_type": "code",
      "source": [],
      "metadata": {
        "id": "Y_kgR37ZQJPO"
      },
      "execution_count": null,
      "outputs": []
    },
    {
      "cell_type": "code",
      "source": [],
      "metadata": {
        "id": "O3X_CPWBP9Vp"
      },
      "execution_count": null,
      "outputs": []
    },
    {
      "cell_type": "code",
      "source": [],
      "metadata": {
        "id": "IWbCVNCLPthh"
      },
      "execution_count": null,
      "outputs": []
    },
    {
      "cell_type": "code",
      "source": [],
      "metadata": {
        "id": "x4s55uUIPlGT"
      },
      "execution_count": null,
      "outputs": []
    },
    {
      "cell_type": "code",
      "source": [],
      "metadata": {
        "id": "brVti-uJPjXa"
      },
      "execution_count": null,
      "outputs": []
    },
    {
      "cell_type": "code",
      "source": [],
      "metadata": {
        "id": "9JjdRmTdPbtz"
      },
      "execution_count": null,
      "outputs": []
    },
    {
      "cell_type": "code",
      "source": [],
      "metadata": {
        "id": "dku8AxyVPPiw"
      },
      "execution_count": null,
      "outputs": []
    },
    {
      "cell_type": "code",
      "source": [],
      "metadata": {
        "id": "ekRCp7b8O3d-"
      },
      "execution_count": null,
      "outputs": []
    },
    {
      "cell_type": "code",
      "source": [],
      "metadata": {
        "id": "R3PuKwkYOrSZ"
      },
      "execution_count": null,
      "outputs": []
    },
    {
      "cell_type": "code",
      "source": [],
      "metadata": {
        "id": "NdVFHJQ6OfRg"
      },
      "execution_count": null,
      "outputs": []
    },
    {
      "cell_type": "code",
      "source": [],
      "metadata": {
        "id": "U0EY-wEsOWjT"
      },
      "execution_count": null,
      "outputs": []
    },
    {
      "cell_type": "code",
      "source": [],
      "metadata": {
        "id": "mIv4nHMHONCL"
      },
      "execution_count": null,
      "outputs": []
    },
    {
      "cell_type": "code",
      "source": [],
      "metadata": {
        "id": "hrOiARpDNvVj"
      },
      "execution_count": null,
      "outputs": []
    },
    {
      "cell_type": "code",
      "source": [],
      "metadata": {
        "id": "T2jcb4t6Niq-"
      },
      "execution_count": null,
      "outputs": []
    },
    {
      "cell_type": "code",
      "source": [],
      "metadata": {
        "id": "9fS3EDu5NXVt"
      },
      "execution_count": null,
      "outputs": []
    },
    {
      "cell_type": "code",
      "source": [],
      "metadata": {
        "id": "4PqWTAvTNKMP"
      },
      "execution_count": null,
      "outputs": []
    },
    {
      "cell_type": "code",
      "source": [],
      "metadata": {
        "id": "pB5rOwHSM7eV"
      },
      "execution_count": null,
      "outputs": []
    },
    {
      "cell_type": "code",
      "source": [],
      "metadata": {
        "id": "D6Btj04_Mla6"
      },
      "execution_count": null,
      "outputs": []
    },
    {
      "cell_type": "code",
      "source": [],
      "metadata": {
        "id": "LkO_GGlsMQH6"
      },
      "execution_count": null,
      "outputs": []
    },
    {
      "cell_type": "code",
      "source": [],
      "metadata": {
        "id": "HoZQSc5LL_v5"
      },
      "execution_count": null,
      "outputs": []
    },
    {
      "cell_type": "code",
      "source": [],
      "metadata": {
        "id": "BlqmbhCALwA6"
      },
      "execution_count": null,
      "outputs": []
    },
    {
      "cell_type": "code",
      "source": [],
      "metadata": {
        "id": "BFcPaE1LLkny"
      },
      "execution_count": null,
      "outputs": []
    },
    {
      "cell_type": "code",
      "source": [],
      "metadata": {
        "id": "AStCGwM6LiLy"
      },
      "execution_count": null,
      "outputs": []
    },
    {
      "cell_type": "code",
      "source": [],
      "metadata": {
        "id": "SI7_ubrDLdnr"
      },
      "execution_count": null,
      "outputs": []
    },
    {
      "cell_type": "code",
      "source": [],
      "metadata": {
        "id": "aUjEWehnLSqj"
      },
      "execution_count": null,
      "outputs": []
    },
    {
      "cell_type": "code",
      "source": [],
      "metadata": {
        "id": "978NpcivLN1I"
      },
      "execution_count": null,
      "outputs": []
    },
    {
      "cell_type": "code",
      "source": [],
      "metadata": {
        "id": "hGHJQOVsK2Db"
      },
      "execution_count": null,
      "outputs": []
    },
    {
      "cell_type": "code",
      "source": [],
      "metadata": {
        "id": "-615KLgRKJLd"
      },
      "execution_count": null,
      "outputs": []
    },
    {
      "cell_type": "code",
      "source": [],
      "metadata": {
        "id": "mbiNWvv5KEk4"
      },
      "execution_count": null,
      "outputs": []
    },
    {
      "cell_type": "code",
      "source": [],
      "metadata": {
        "id": "tJrXq3gKrj3k"
      },
      "execution_count": null,
      "outputs": []
    },
    {
      "cell_type": "code",
      "source": [],
      "metadata": {
        "id": "S1YtZWn-qj9e"
      },
      "execution_count": null,
      "outputs": []
    },
    {
      "cell_type": "code",
      "source": [],
      "metadata": {
        "id": "YDON1_UMqG9v"
      },
      "execution_count": null,
      "outputs": []
    },
    {
      "cell_type": "code",
      "source": [],
      "metadata": {
        "id": "tJS6rI86ogPB"
      },
      "execution_count": null,
      "outputs": []
    },
    {
      "cell_type": "code",
      "source": [],
      "metadata": {
        "id": "x4pa7pHNntYa"
      },
      "execution_count": null,
      "outputs": []
    },
    {
      "cell_type": "markdown",
      "source": [],
      "metadata": {
        "id": "IzzUEDutnTVw"
      }
    },
    {
      "cell_type": "code",
      "source": [],
      "metadata": {
        "id": "RmQZPIcjnJ9J"
      },
      "execution_count": null,
      "outputs": []
    },
    {
      "cell_type": "code",
      "source": [],
      "metadata": {
        "id": "0hBMhGuxm6Wt"
      },
      "execution_count": null,
      "outputs": []
    },
    {
      "cell_type": "code",
      "source": [],
      "metadata": {
        "id": "IL-hIFgjl8Jv"
      },
      "execution_count": null,
      "outputs": []
    },
    {
      "cell_type": "code",
      "source": [],
      "metadata": {
        "id": "prPUJpROlDVb"
      },
      "execution_count": null,
      "outputs": []
    },
    {
      "cell_type": "code",
      "source": [],
      "metadata": {
        "id": "AcWWoP86tooP"
      },
      "execution_count": null,
      "outputs": []
    },
    {
      "cell_type": "code",
      "source": [],
      "metadata": {
        "id": "-_A7hGwBhc6k"
      },
      "execution_count": null,
      "outputs": []
    },
    {
      "cell_type": "code",
      "source": [],
      "metadata": {
        "id": "PGEfbbAhrU8N"
      },
      "execution_count": null,
      "outputs": []
    },
    {
      "cell_type": "code",
      "source": [],
      "metadata": {
        "id": "o3rsvEqVqCSo"
      },
      "execution_count": null,
      "outputs": []
    },
    {
      "cell_type": "code",
      "source": [],
      "metadata": {
        "id": "CxK6OX9mnvhL"
      },
      "execution_count": null,
      "outputs": []
    },
    {
      "cell_type": "code",
      "source": [],
      "metadata": {
        "id": "PcjRSIAvmLjH"
      },
      "execution_count": null,
      "outputs": []
    },
    {
      "cell_type": "code",
      "source": [],
      "metadata": {
        "id": "rmdx10lDk8Xt"
      },
      "execution_count": null,
      "outputs": []
    },
    {
      "cell_type": "code",
      "source": [],
      "metadata": {
        "id": "eIykcYl3jSzf"
      },
      "execution_count": null,
      "outputs": []
    },
    {
      "cell_type": "code",
      "source": [],
      "metadata": {
        "id": "ToVTrox0ha5B"
      },
      "execution_count": null,
      "outputs": []
    },
    {
      "cell_type": "code",
      "source": [],
      "metadata": {
        "id": "PCTgPLVGfXF9"
      },
      "execution_count": null,
      "outputs": []
    },
    {
      "cell_type": "code",
      "source": [],
      "metadata": {
        "id": "XkVtgpmeeTo9"
      },
      "execution_count": null,
      "outputs": []
    },
    {
      "cell_type": "code",
      "source": [],
      "metadata": {
        "id": "dhSxZdYIcvKu"
      },
      "execution_count": null,
      "outputs": []
    },
    {
      "cell_type": "code",
      "source": [],
      "metadata": {
        "id": "iUOJN1Yncdb9"
      },
      "execution_count": null,
      "outputs": []
    },
    {
      "cell_type": "code",
      "source": [],
      "metadata": {
        "id": "K45vQsglaenB"
      },
      "execution_count": null,
      "outputs": []
    },
    {
      "cell_type": "code",
      "source": [],
      "metadata": {
        "id": "_-OAH77caYg4"
      },
      "execution_count": null,
      "outputs": []
    },
    {
      "cell_type": "code",
      "source": [],
      "metadata": {
        "id": "42XTsnSBZYg3"
      },
      "execution_count": null,
      "outputs": []
    },
    {
      "cell_type": "code",
      "source": [],
      "metadata": {
        "id": "Na1ILDQYXsMb"
      },
      "execution_count": null,
      "outputs": []
    },
    {
      "cell_type": "code",
      "source": [],
      "metadata": {
        "id": "hJYpA8mzXdV-"
      },
      "execution_count": null,
      "outputs": []
    },
    {
      "cell_type": "code",
      "source": [],
      "metadata": {
        "id": "ClRJBDKzXZOJ"
      },
      "execution_count": null,
      "outputs": []
    },
    {
      "cell_type": "code",
      "source": [],
      "metadata": {
        "id": "VHTQdfeMWaFu"
      },
      "execution_count": null,
      "outputs": []
    },
    {
      "cell_type": "code",
      "source": [],
      "metadata": {
        "id": "xD-vpWI8Vyb6"
      },
      "execution_count": null,
      "outputs": []
    },
    {
      "cell_type": "code",
      "execution_count": null,
      "metadata": {
        "id": "wXKBPE5iSUkv"
      },
      "outputs": [],
      "source": []
    }
  ]
}